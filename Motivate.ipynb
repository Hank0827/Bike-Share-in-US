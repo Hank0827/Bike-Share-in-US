{
 "cells": [
  {
   "cell_type": "code",
   "execution_count": 1,
   "metadata": {},
   "outputs": [],
   "source": [
    "#Import the package we needed\n",
    "import numpy as np\n",
    "import pandas as pd\n",
    "import time"
   ]
  },
  {
   "cell_type": "code",
   "execution_count": 2,
   "metadata": {},
   "outputs": [],
   "source": [
    "# dataset from DC\n",
    "dc1 = pd.read_csv('dc01.csv')\n",
    "dc2 = pd.read_csv('dc02.csv')\n",
    "dc3 = pd.read_csv('dc03.csv')\n",
    "dc4 = pd.read_csv('dc04.csv')\n",
    "dc5 = pd.read_csv('dc05.csv')\n",
    "dc6 = pd.read_csv('dc06.csv')"
   ]
  },
  {
   "cell_type": "code",
   "execution_count": 3,
   "metadata": {},
   "outputs": [],
   "source": [
    "dc = pd.concat([dc1,dc2,dc3,dc4,dc5,dc6])"
   ]
  },
  {
   "cell_type": "code",
   "execution_count": 4,
   "metadata": {},
   "outputs": [],
   "source": [
    "# dataset from Chicago\n",
    "chicago1 = pd.read_csv('chicago 1')\n",
    "chicago2 = pd.read_csv('chicago 2')"
   ]
  },
  {
   "cell_type": "code",
   "execution_count": 5,
   "metadata": {},
   "outputs": [],
   "source": [
    "chicago2.rename(columns={'01 - Rental Details Rental ID':'trip_id', \n",
    "                         '01 - Rental Details Local Start Time':'start_time', \n",
    "                         '01 - Rental Details Local End Time':'end_time', \n",
    "                         '01 - Rental Details Bike ID':'bikeid', \n",
    "                        '01 - Rental Details Duration In Seconds Uncapped' :'tripduration',\n",
    "       '03 - Rental Start Station ID':'from_station_id', '03 - Rental Start Station Name':'from_station_name', \n",
    "                         '02 - Rental End Station ID':'to_station_id',\n",
    "       '02 - Rental End Station Name':'to_station_name', \n",
    "                         'User Type':'usertype', 'Member Gender':'gender', '05 - Member Details Member Birthday Year':'birthyear'},\n",
    "               inplace = True)"
   ]
  },
  {
   "cell_type": "code",
   "execution_count": 6,
   "metadata": {},
   "outputs": [],
   "source": [
    "chicago = pd.concat([chicago1,chicago2])\n"
   ]
  },
  {
   "cell_type": "code",
   "execution_count": 9,
   "metadata": {},
   "outputs": [],
   "source": [
    "chicago.rename(columns={'tripduration':'Duration','start_time':'Start date','end_time':'End date',\n",
    "                       'from_station_name':'Start station','to_station_name':'End station','from_station_id':'Start station number',\n",
    "                       'to_station_id':'End station number','bikeid':'Bike number','usertype':'Member type'},inplace = True)\n"
   ]
  },
  {
   "cell_type": "code",
   "execution_count": 10,
   "metadata": {},
   "outputs": [],
   "source": [
    "# dataset from NY\n",
    "ny1 = pd.read_csv('ny1.csv')\n",
    "ny2 = pd.read_csv('ny2.csv')\n",
    "ny3 = pd.read_csv('ny3.csv')\n",
    "ny4 = pd.read_csv('ny4.csv')\n",
    "ny5 = pd.read_csv('ny5.csv')\n",
    "ny6 = pd.read_csv('ny6.csv')"
   ]
  },
  {
   "cell_type": "code",
   "execution_count": 11,
   "metadata": {},
   "outputs": [],
   "source": [
    "ny = pd.concat([ny1,ny2,ny3,ny4,ny5,ny6])"
   ]
  },
  {
   "cell_type": "code",
   "execution_count": 12,
   "metadata": {},
   "outputs": [],
   "source": [
    "def m_change(x):\n",
    "    if x == 1:\n",
    "        return 'Male'\n",
    "    elif x == 2:\n",
    "        return 'Female'\n",
    "    else:\n",
    "        'NaN'"
   ]
  },
  {
   "cell_type": "code",
   "execution_count": 13,
   "metadata": {},
   "outputs": [],
   "source": [
    "ny['gender'] = ny['gender'].apply(m_change)"
   ]
  },
  {
   "cell_type": "code",
   "execution_count": 14,
   "metadata": {},
   "outputs": [],
   "source": [
    "ny.rename(columns={'tripduration':'Duration','starttime':'Start date','stoptime':'End date',\n",
    "                       'start station name':'Start station','end station name':'End station','start station id':'Start station number',\n",
    "                       'end station id':'End station number','bikeid':'Bike number','usertype':'Member type'},inplace = True)\n"
   ]
  },
  {
   "cell_type": "code",
   "execution_count": 15,
   "metadata": {},
   "outputs": [],
   "source": [
    "NY = pd.read_csv('ny.csv',index_col = False)\n",
    "DC = pd.read_csv('dc.csv',index_col = False)\n",
    "Chicago = pd.read_csv('chi.csv',index_col = False)"
   ]
  },
  {
   "cell_type": "code",
   "execution_count": 16,
   "metadata": {},
   "outputs": [],
   "source": [
    "data = {'ny':NY,'dc':DC,'chicago':Chicago}\n",
    "months = ['january','february' , 'march' , 'april' , 'may' , 'june', 'all']\n",
    "days =  ['monday', 'tuesday' , 'wednesday' , 'thursday' , 'friday' , 'saturday' , 'sunday', 'all']"
   ]
  },
  {
   "cell_type": "code",
   "execution_count": 17,
   "metadata": {},
   "outputs": [],
   "source": [
    "def month_translate(x):\n",
    "    if x == 1:\n",
    "        return 'january'\n",
    "    elif x == 2:\n",
    "        return 'february'\n",
    "    elif x == 3:\n",
    "        return 'march'\n",
    "    elif x ==4:\n",
    "        return 'april'\n",
    "    elif x ==5:\n",
    "        return 'may'\n",
    "    elif x ==6:\n",
    "        return 'june'\n",
    "    else:\n",
    "        return 'all'"
   ]
  },
  {
   "cell_type": "code",
   "execution_count": 18,
   "metadata": {},
   "outputs": [],
   "source": [
    "def day_translate(x):\n",
    "    if x == 0:\n",
    "        return 'monday'\n",
    "    elif x == 1:\n",
    "        return 'tuesday'\n",
    "    elif x == 2:\n",
    "        return 'wednesday'\n",
    "    elif x ==3:\n",
    "        return 'thursday'\n",
    "    elif x ==4:\n",
    "        return 'friday'\n",
    "    elif x ==5:\n",
    "        return 'saturday'\n",
    "    elif x ==6:\n",
    "        return 'sunday'\n",
    "    else:\n",
    "        return 'all'"
   ]
  },
  {
   "cell_type": "code",
   "execution_count": 22,
   "metadata": {},
   "outputs": [],
   "source": [
    "def input_info(x,error,info_list,str_low=lambda x:str.lower(x)):\n",
    "    while True:\n",
    "        a = input(x)\n",
    "        a = str_low(a)\n",
    "        if a in info_list:\n",
    "            return a\n",
    "        else:\n",
    "            print (error)"
   ]
  },
  {
   "cell_type": "code",
   "execution_count": 23,
   "metadata": {},
   "outputs": [],
   "source": [
    "# filter city,month and day\n",
    "def get_filter():\n",
    "    \n",
    "    #City\n",
    "    city = input_info('\\nWhich city, NY,DC or Chicago? ','\\nWrong City!',['ny','dc','chicago'])\n",
    "    #Month\n",
    "    month = input_info('\\nWhich month? ','\\nWrong Month!',months)\n",
    "    #Day\n",
    "    day = input_info('\\nWhich day? ','\\nWrong Day!',days)\n",
    "    \n",
    "    return city,month,day"
   ]
  },
  {
   "cell_type": "code",
   "execution_count": 24,
   "metadata": {},
   "outputs": [],
   "source": [
    "def load_data(city,month,day):\n",
    "    df = data[city]\n",
    "    df['Start date'] = pd.to_datetime(df['Start date'])\n",
    "    df['month'] = df['Start date'].dt.month\n",
    "    df['day'] = df['Start date'].dt.dayofweek\n",
    "    \n",
    "    if 'month' != 'all':\n",
    "        df = df[df['month'] == months.index(month)+1]\n",
    "    if 'day' != 'all':\n",
    "        df = df[df['day']==days.index(day)]\n",
    "    \n",
    "    \n",
    "    return df"
   ]
  },
  {
   "cell_type": "code",
   "execution_count": 25,
   "metadata": {},
   "outputs": [],
   "source": [
    "def bike_time(df):\n",
    "    # Most common month\n",
    "    month_common = df['month'].mode()[0]\n",
    "    print('\\nThe most common month to travel: ',months[month_common-1])\n",
    "    # Most common day\n",
    "    day_common = df['day'].mode()[0]\n",
    "    print('\\nThe most common day to travel: ',days[day_common])\n",
    "    # Most common hour\n",
    "    df['hour'] = df['Start date'].dt.hour\n",
    "    print('\\nThe most common hour to travel: ',df['hour'].mode()[0])\n",
    "    \n",
    "    \n",
    "    "
   ]
  },
  {
   "cell_type": "code",
   "execution_count": 26,
   "metadata": {},
   "outputs": [],
   "source": [
    "def station(df):\n",
    "    \n",
    "    # Most common start station\n",
    "    print('\\nThe most common start station: ',df['Start station'].mode()[0])\n",
    "    # Most common end station\n",
    "    print('\\nThe most common end station: ',df['End station'].mode()[0])\n",
    "    # Most common trip\n",
    "    combine = df['Start station'] +'-'+df['End station']\n",
    "    print('\\nThe most frequency start station to end station ',combine.mode()[0])\n",
    "    "
   ]
  },
  {
   "cell_type": "code",
   "execution_count": 27,
   "metadata": {},
   "outputs": [],
   "source": [
    "def duration(df):\n",
    "    # Total trip duration\n",
    "    print('\\nTotal trip duration: ',df['Duration'].sum())\n",
    "    # Average trip duration\n",
    "    print('\\nAverage trip duration: ',df['Duration'].mean())"
   ]
  },
  {
   "cell_type": "code",
   "execution_count": 28,
   "metadata": {},
   "outputs": [],
   "source": [
    "def user(df):\n",
    "    # Users from different type\n",
    "    print('\\nUsers from different type: ',df['Member type'].value_counts())\n",
    "    # Gender\n",
    "    if 'gender' in df.columns:\n",
    "        print('\\nThe number of gender: ',df['gender'].value_counts())\n",
    "    else:\n",
    "        print('\\nThere is no gender data')"
   ]
  },
  {
   "cell_type": "code",
   "execution_count": 29,
   "metadata": {},
   "outputs": [],
   "source": [
    "# combine functions into one\n",
    "def main():\n",
    "    while True:\n",
    "        city, month, day = get_filter()\n",
    "        df = load_data(city, month, day)\n",
    "        bike_time(df)\n",
    "        station(df)\n",
    "        duration(df)\n",
    "        user(df)\n",
    "        restart = input('\\nWould you like to restart? Enter yes or no.\\n')\n",
    "        if restart.lower() != 'yes':\n",
    "            break"
   ]
  },
  {
   "cell_type": "code",
   "execution_count": null,
   "metadata": {},
   "outputs": [],
   "source": [
    "if __name__ == \"__main__\":\n",
    "    main()"
   ]
  },
  {
   "cell_type": "code",
   "execution_count": null,
   "metadata": {},
   "outputs": [],
   "source": []
  },
  {
   "cell_type": "code",
   "execution_count": null,
   "metadata": {},
   "outputs": [],
   "source": []
  },
  {
   "cell_type": "code",
   "execution_count": null,
   "metadata": {},
   "outputs": [],
   "source": []
  }
 ],
 "metadata": {
  "kernelspec": {
   "display_name": "Python 3",
   "language": "python",
   "name": "python3"
  },
  "language_info": {
   "codemirror_mode": {
    "name": "ipython",
    "version": 3
   },
   "file_extension": ".py",
   "mimetype": "text/x-python",
   "name": "python",
   "nbconvert_exporter": "python",
   "pygments_lexer": "ipython3",
   "version": "3.7.1"
  }
 },
 "nbformat": 4,
 "nbformat_minor": 2
}
